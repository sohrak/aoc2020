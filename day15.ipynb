{
 "cells": [
  {
   "cell_type": "markdown",
   "metadata": {},
   "source": [
    "MIT License\n",
    "\n",
    "Copyright (c) 2020 Cory Sohrakoff\n",
    "\n",
    "Permission is hereby granted, free of charge, to any person obtaining a copy\n",
    "of this software and associated documentation files (the \"Software\"), to deal\n",
    "in the Software without restriction, including without limitation the rights\n",
    "to use, copy, modify, merge, publish, distribute, sublicense, and/or sell\n",
    "copies of the Software, and to permit persons to whom the Software is\n",
    "furnished to do so, subject to the following conditions:\n",
    "\n",
    "The above copyright notice and this permission notice shall be included in all\n",
    "copies or substantial portions of the Software.\n",
    "\n",
    "THE SOFTWARE IS PROVIDED \"AS IS\", WITHOUT WARRANTY OF ANY KIND, EXPRESS OR\n",
    "IMPLIED, INCLUDING BUT NOT LIMITED TO THE WARRANTIES OF MERCHANTABILITY,\n",
    "FITNESS FOR A PARTICULAR PURPOSE AND NONINFRINGEMENT. IN NO EVENT SHALL THE\n",
    "AUTHORS OR COPYRIGHT HOLDERS BE LIABLE FOR ANY CLAIM, DAMAGES OR OTHER\n",
    "LIABILITY, WHETHER IN AN ACTION OF CONTRACT, TORT OR OTHERWISE, ARISING FROM,\n",
    "OUT OF OR IN CONNECTION WITH THE SOFTWARE OR THE USE OR OTHER DEALINGS IN THE\n",
    "SOFTWARE."
   ]
  },
  {
   "cell_type": "code",
   "execution_count": 17,
   "metadata": {},
   "outputs": [
    {
     "name": "stdout",
     "output_type": "stream",
     "text": [
      "[0, 3, 6]: 436\n",
      "[1, 3, 2]: 1\n",
      "[2, 1, 3]: 10\n",
      "[1, 2, 3]: 27\n",
      "[2, 3, 1]: 78\n",
      "[3, 2, 1]: 438\n",
      "[3, 1, 2]: 1836\n",
      "[0, 12, 6, 13, 20, 1, 17]: 620\n"
     ]
    }
   ],
   "source": [
    "from typing import List\n",
    "from collections import defaultdict\n",
    "\n",
    "def part1(input: List[int], number: int) -> int:\n",
    "    d = defaultdict(int)\n",
    "    for i in range(0, len(input)):\n",
    "        last = input[i]\n",
    "        last_first = d[last] == 0\n",
    "        d[last] = i + 1\n",
    "    \n",
    "    for i in range(len(input), number):\n",
    "        if last_first:\n",
    "            age = 0\n",
    "        else:\n",
    "            age = i - d[last]\n",
    "        d[last] = i\n",
    "        last = age\n",
    "        last_first = d[last] == 0\n",
    "        \n",
    "    return last\n",
    "\n",
    "inputs = [[0,3,6], [1,3,2], [2,1,3], [1,2,3], [2,3,1], [3,2,1], [3,1,2], [0,12,6,13,20,1,17]]\n",
    "for input in inputs:\n",
    "    print(f'{input}: {part1(input, 2020)}')\n"
   ]
  },
  {
   "cell_type": "code",
   "execution_count": 18,
   "metadata": {},
   "outputs": [
    {
     "name": "stdout",
     "output_type": "stream",
     "text": [
      "[0, 12, 6, 13, 20, 1, 17]: 110871\n"
     ]
    }
   ],
   "source": [
    "def part2(input: List[int], number: int) -> int:\n",
    "    return part1(input, number)\n",
    "\n",
    "# I did not optimize here, it runs \"OK\"\n",
    "inputs = [[0,12,6,13,20,1,17]]\n",
    "for input in inputs:\n",
    "    print(f'{input}: {part1(input, 30000000)}')"
   ]
  },
  {
   "cell_type": "code",
   "execution_count": null,
   "metadata": {},
   "outputs": [],
   "source": []
  }
 ],
 "metadata": {
  "kernelspec": {
   "display_name": "Python 3",
   "language": "python",
   "name": "python3"
  },
  "language_info": {
   "codemirror_mode": {
    "name": "ipython",
    "version": 3
   },
   "file_extension": ".py",
   "mimetype": "text/x-python",
   "name": "python",
   "nbconvert_exporter": "python",
   "pygments_lexer": "ipython3",
   "version": "3.6.12"
  }
 },
 "nbformat": 4,
 "nbformat_minor": 4
}
