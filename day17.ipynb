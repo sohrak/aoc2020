{
 "cells": [
  {
   "cell_type": "markdown",
   "metadata": {},
   "source": [
    "MIT License\n",
    "\n",
    "Copyright (c) 2020 Cory Sohrakoff\n",
    "\n",
    "Permission is hereby granted, free of charge, to any person obtaining a copy\n",
    "of this software and associated documentation files (the \"Software\"), to deal\n",
    "in the Software without restriction, including without limitation the rights\n",
    "to use, copy, modify, merge, publish, distribute, sublicense, and/or sell\n",
    "copies of the Software, and to permit persons to whom the Software is\n",
    "furnished to do so, subject to the following conditions:\n",
    "\n",
    "The above copyright notice and this permission notice shall be included in all\n",
    "copies or substantial portions of the Software.\n",
    "\n",
    "THE SOFTWARE IS PROVIDED \"AS IS\", WITHOUT WARRANTY OF ANY KIND, EXPRESS OR\n",
    "IMPLIED, INCLUDING BUT NOT LIMITED TO THE WARRANTIES OF MERCHANTABILITY,\n",
    "FITNESS FOR A PARTICULAR PURPOSE AND NONINFRINGEMENT. IN NO EVENT SHALL THE\n",
    "AUTHORS OR COPYRIGHT HOLDERS BE LIABLE FOR ANY CLAIM, DAMAGES OR OTHER\n",
    "LIABILITY, WHETHER IN AN ACTION OF CONTRACT, TORT OR OTHERWISE, ARISING FROM,\n",
    "OUT OF OR IN CONNECTION WITH THE SOFTWARE OR THE USE OR OTHER DEALINGS IN THE\n",
    "SOFTWARE."
   ]
  },
  {
   "cell_type": "code",
   "execution_count": 57,
   "metadata": {},
   "outputs": [],
   "source": [
    "input = '''..#....#\n",
    "##.#..##\n",
    ".###....\n",
    "#....#.#\n",
    "#.######\n",
    "##.#....\n",
    "#.......\n",
    ".#......'''\n",
    "\n",
    "lines = input.split('\\n')\n",
    "\n",
    "active = []\n",
    "active4d = []\n",
    "\n",
    "x = len(lines)\n",
    "y = len(lines[0])\n",
    "z = 1\n",
    "w = 1\n",
    "\n",
    "for i in range(len(lines)):\n",
    "    for j in range(len(lines[i])):\n",
    "        if lines[i][j] == '#':\n",
    "            active.append((i, j, 0))\n",
    "            active4d.append((i, j, 0, 0))"
   ]
  },
  {
   "cell_type": "code",
   "execution_count": 58,
   "metadata": {},
   "outputs": [
    {
     "data": {
      "text/plain": [
       "265"
      ]
     },
     "execution_count": 58,
     "metadata": {},
     "output_type": "execute_result"
    }
   ],
   "source": [
    "from itertools import product\n",
    "\n",
    "neighbors = list(product([-1, 0, 1], repeat=3))\n",
    "neighbors.remove((0, 0, 0))\n",
    "\n",
    "def count_neighbors_active(active, x, y, z):\n",
    "    count = 0\n",
    "    for (dx, dy, dz) in neighbors:\n",
    "        if (x + dx, y + dy, z + dz) in active:\n",
    "            if z == 0 and dz == 1:\n",
    "                count += 2\n",
    "            else:\n",
    "                count += 1\n",
    "    return count\n",
    "    \n",
    "def part1(active, xrange, yrange, zrange, cycles=6):\n",
    "    xs = 0\n",
    "    ys = 0\n",
    "    for c in range(cycles):\n",
    "        xrange += 1\n",
    "        yrange += 1\n",
    "        zrange += 1\n",
    "        xs -= 1\n",
    "        ys -= 1\n",
    "        \n",
    "        new_active = []\n",
    "        for x in range(xs, xrange):\n",
    "            for y in range(ys, yrange):\n",
    "                for z in range(0, zrange):\n",
    "                    count = count_neighbors_active(active, x, y, z)\n",
    "                    if (x, y, z) in active:\n",
    "                        if count == 2 or count == 3:\n",
    "                            new_active.append((x, y, z))\n",
    "                    elif count == 3:\n",
    "                        new_active.append((x, y, z))\n",
    "        active = new_active\n",
    "    \n",
    "    count = 0\n",
    "    for (x, y, z) in active:\n",
    "        if z == 0:\n",
    "            count += 1\n",
    "        else:\n",
    "            count += 2\n",
    "            \n",
    "    return count\n",
    "\n",
    "part1(active, x, y, z)"
   ]
  },
  {
   "cell_type": "code",
   "execution_count": 59,
   "metadata": {},
   "outputs": [
    {
     "data": {
      "text/plain": [
       "1936"
      ]
     },
     "execution_count": 59,
     "metadata": {},
     "output_type": "execute_result"
    }
   ],
   "source": [
    "from itertools import product\n",
    "\n",
    "neighbors4d = list(product([-1, 0, 1], repeat=4))\n",
    "neighbors4d.remove((0, 0, 0, 0))\n",
    "\n",
    "def count_neighbors_active4d(active, x, y, z, w):\n",
    "    count = 0\n",
    "    for (dx, dy, dz, dw) in neighbors4d:\n",
    "        if (x + dx, y + dy, z + dz, w + dw) in active:\n",
    "            dcount = 1\n",
    "            if z == 0 and dz == 1:\n",
    "                dcount *= 2\n",
    "            if w == 0 and dw == 1:\n",
    "                dcount *= 2\n",
    "            count += dcount\n",
    "    return count\n",
    "    \n",
    "def part2(active, xrange, yrange, zrange, wrange, cycles=6):\n",
    "    xs = 0\n",
    "    ys = 0\n",
    "    for c in range(cycles):\n",
    "        xrange += 1\n",
    "        yrange += 1\n",
    "        zrange += 1\n",
    "        wrange += 1\n",
    "        xs -= 1\n",
    "        ys -= 1\n",
    "        \n",
    "        new_active = []\n",
    "        for x in range(xs, xrange):\n",
    "            for y in range(ys, yrange):\n",
    "                for z in range(0, zrange):\n",
    "                    for w in range(0, wrange):\n",
    "                        count = count_neighbors_active4d(active, x, y, z, w)\n",
    "                        if (x, y, z, w) in active:\n",
    "                            if count == 2 or count == 3:\n",
    "                                new_active.append((x, y, z, w))\n",
    "                        elif count == 3:\n",
    "                            new_active.append((x, y, z, w))\n",
    "        active = new_active\n",
    "        \n",
    "    count = 0\n",
    "    for (x, y, z, w) in active:\n",
    "        dcount = 1\n",
    "        if z != 0:\n",
    "            dcount *= 2\n",
    "        if w != 0:\n",
    "            dcount *= 2\n",
    "        count += dcount\n",
    "        \n",
    "    return count\n",
    "\n",
    "part2(active4d, x, y, z, w)"
   ]
  },
  {
   "cell_type": "code",
   "execution_count": null,
   "metadata": {},
   "outputs": [],
   "source": []
  }
 ],
 "metadata": {
  "kernelspec": {
   "display_name": "Python 3",
   "language": "python",
   "name": "python3"
  },
  "language_info": {
   "codemirror_mode": {
    "name": "ipython",
    "version": 3
   },
   "file_extension": ".py",
   "mimetype": "text/x-python",
   "name": "python",
   "nbconvert_exporter": "python",
   "pygments_lexer": "ipython3",
   "version": "3.6.12"
  }
 },
 "nbformat": 4,
 "nbformat_minor": 4
}
